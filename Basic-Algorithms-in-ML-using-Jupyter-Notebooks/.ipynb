{
 "cells": [
  {
   "cell_type": "code",
   "execution_count": 1,
   "metadata": {},
   "outputs": [
    {
     "data": {
      "text/plain": [
       "'\\nLinear Regression model \\nDataset : India GDP from 1961 to 2017.csv\\nFor similar type of data visit : https://data.worldbank.org/country/india\\n'"
      ]
     },
     "execution_count": 1,
     "metadata": {},
     "output_type": "execute_result"
    }
   ],
   "source": [
    "\"\"\"\n",
    "Linear Regression model \n",
    "Dataset : India GDP from 1961 to 2017.csv\n",
    "For similar type of data visit : https://data.worldbank.org/country/india\n",
    "\"\"\""
   ]
  },
  {
   "cell_type": "code",
   "execution_count": 2,
   "metadata": {},
   "outputs": [],
   "source": [
    "# Import libraries\n",
    "import pandas as pd\n",
    "import numpy as np\n",
    "import matplotlib.pyplot as plt"
   ]
  },
  {
   "cell_type": "code",
   "execution_count": 3,
   "metadata": {},
   "outputs": [],
   "source": [
    "# Import data and do some preprocessing\n",
    "df = pd.read_csv('India GDP from 1961 to 2017.csv')\n",
    "df1 = df.iloc[:, [0, 1]]\n",
    "df1 = df1.dropna()\n",
    "x = df1.iloc[:, 0:1].values\n",
    "y = df1.iloc[:, 1].values"
   ]
  },
  {
   "cell_type": "code",
   "execution_count": 4,
   "metadata": {},
   "outputs": [],
   "source": [
    "# Import model\n",
    "from sklearn.linear_model import LinearRegression\n",
    "linearRegressor = LinearRegression()\n",
    "\n",
    "# Fit on training model\n",
    "linearRegressor = linearRegressor.fit(x, y)\n"
   ]
  },
  {
   "cell_type": "code",
   "execution_count": 6,
   "metadata": {},
   "outputs": [
    {
     "data": {
      "text/plain": [
       "Text(0,0.5,'Growth in GDP')"
      ]
     },
     "execution_count": 6,
     "metadata": {},
     "output_type": "execute_result"
    },
    {
     "data": {
      "image/png": "[encoded data removed]",
      "text/plain": [
       "<Figure size 432x288 with 1 Axes>"
      ]
     },
     "metadata": {
      "needs_background": "light"
     },
     "output_type": "display_data"
    }
   ],
   "source": [
    "# Plot the answer vs prediction\n",
    "# Visualization\n",
    "plt.scatter(x, y, color = 'blue')\n",
    "plt.plot(x, linearRegressor.predict(x), color = 'red')\n",
    "plt.title('India growth in GDP by Year')\n",
    "plt.xlabel('Year')\n",
    "plt.ylabel('Growth in GDP')"
   ]
  },
  {
   "cell_type": "code",
   "execution_count": 7,
   "metadata": {},
   "outputs": [],
   "source": [
    "# As we can see, it does not fit the data correctly, \n",
    "# since it only focuses on a line"
   ]
  }
 ],
 "metadata": {
  "kernelspec": {
   "display_name": "Python 3",
   "language": "python",
   "name": "python3"
  },
  "language_info": {
   "codemirror_mode": {
    "name": "ipython",
    "version": 3
   },
   "file_extension": ".py",
   "mimetype": "text/x-python",
   "name": "python",
   "nbconvert_exporter": "python",
   "pygments_lexer": "ipython3",
   "version": "3.6.4"
  }
 },
 "nbformat": 4,
 "nbformat_minor": 2
}
